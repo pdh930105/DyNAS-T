{
 "cells": [
  {
   "cell_type": "code",
   "execution_count": 5,
   "metadata": {},
   "outputs": [],
   "source": [
    "import ast\n",
    "import random\n",
    "from typing import Dict, List, Optional, Tuple, Union\n",
    "\n",
    "import numpy as np\n",
    "import pandas as pd\n",
    "from sklearn.model_selection import train_test_split\n",
    "\n",
    "class EncodingBase:\n",
    "    \"\"\"This class manages various representations of the sub-network configuration. It processes\n",
    "    a user parameter dictionary to create the following representations:\n",
    "    \"\"\"\n",
    "\n",
    "    def __init__(self, param_dict: dict, verbose: bool = False, seed: int = 0):\n",
    "        self.param_dict = param_dict\n",
    "        self.verbose = verbose\n",
    "        self.mapper, self.param_upperbound, self.param_count = self.process_param_dict()\n",
    "        #self.set_seed(seed)\n",
    "        #self.inv_mapper = self.create_inv_mapper()\n",
    "\n",
    "    def process_param_dict(self) -> Tuple[List[Dict[int, Union[int, float]]], List[int], int]:\n",
    "        \"\"\"Builds a parameter mapping arrays and an upper-bound vector for PyMoo.\"\"\"\n",
    "        parameter_count = 0\n",
    "        parameter_bound = list()\n",
    "        parameter_upperbound = list()\n",
    "        parameter_mapper = list()\n",
    "\n",
    "        for parameter, options in self.param_dict.items():\n",
    "            # How many variables should be searched for\n",
    "            parameter_count += options['count']\n",
    "            parameter_bound.append(options['count'])\n",
    "\n",
    "            # How many variables for each parameter\n",
    "            for i in range(options['count']):\n",
    "                parameter_upperbound.append(len(options['vars']) - 1)\n",
    "                single_mapping = dict()\n",
    "                for idx, value in enumerate(options['vars']):\n",
    "                    if type(value) == int or type(value) == float:\n",
    "                        single_mapping[idx] = value\n",
    "                    else:\n",
    "                        single_mapping[idx] = str(value)\n",
    "\n",
    "                parameter_mapper.append(single_mapping)\n",
    "\n",
    "        return parameter_mapper, parameter_upperbound, parameter_count"
   ]
  },
  {
   "cell_type": "code",
   "execution_count": 6,
   "metadata": {},
   "outputs": [],
   "source": [
    "ofa_resnet50={\n",
    "        'd': {'count': 5, 'vars': [0, 1, 2]},\n",
    "        'e': {'count': 18, 'vars': [0.2, 0.25, 0.35]},\n",
    "        'w': {'count': 6, 'vars': [0, 1, 2]},\n",
    "    }\n",
    "\n",
    "# parameter의 count의 의미는 무엇인가?"
   ]
  },
  {
   "cell_type": "code",
   "execution_count": 7,
   "metadata": {},
   "outputs": [],
   "source": [
    "ofa_resnet50_encoding = EncodingBase(ofa_resnet50)"
   ]
  },
  {
   "cell_type": "code",
   "execution_count": 8,
   "metadata": {},
   "outputs": [
    {
     "data": {
      "text/plain": [
       "[2,\n",
       " 2,\n",
       " 2,\n",
       " 2,\n",
       " 2,\n",
       " 2,\n",
       " 2,\n",
       " 2,\n",
       " 2,\n",
       " 2,\n",
       " 2,\n",
       " 2,\n",
       " 2,\n",
       " 2,\n",
       " 2,\n",
       " 2,\n",
       " 2,\n",
       " 2,\n",
       " 2,\n",
       " 2,\n",
       " 2,\n",
       " 2,\n",
       " 2,\n",
       " 2,\n",
       " 2,\n",
       " 2,\n",
       " 2,\n",
       " 2,\n",
       " 2]"
      ]
     },
     "execution_count": 8,
     "metadata": {},
     "output_type": "execute_result"
    }
   ],
   "source": [
    "ofa_resnet50_encoding.param_upperbound"
   ]
  },
  {
   "cell_type": "code",
   "execution_count": 11,
   "metadata": {},
   "outputs": [
    {
     "data": {
      "text/plain": [
       "29"
      ]
     },
     "execution_count": 11,
     "metadata": {},
     "output_type": "execute_result"
    }
   ],
   "source": [
    "ofa_resnet50_encoding.param_count"
   ]
  },
  {
   "cell_type": "code",
   "execution_count": null,
   "metadata": {},
   "outputs": [],
   "source": []
  }
 ],
 "metadata": {
  "kernelspec": {
   "display_name": "Python 3",
   "language": "python",
   "name": "python3"
  },
  "language_info": {
   "codemirror_mode": {
    "name": "ipython",
    "version": 3
   },
   "file_extension": ".py",
   "mimetype": "text/x-python",
   "name": "python",
   "nbconvert_exporter": "python",
   "pygments_lexer": "ipython3",
   "version": "3.8.10 (default, Nov 14 2022, 12:59:47) \n[GCC 9.4.0]"
  },
  "orig_nbformat": 4,
  "vscode": {
   "interpreter": {
    "hash": "e7370f93d1d0cde622a1f8e1c04877d8463912d04d973331ad4851f04de6915a"
   }
  }
 },
 "nbformat": 4,
 "nbformat_minor": 2
}
